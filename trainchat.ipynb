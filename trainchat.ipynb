{
 "cells": [
  {
   "cell_type": "code",
   "execution_count": 1,
   "id": "27adbd6a",
   "metadata": {},
   "outputs": [
    {
     "name": "stderr",
     "output_type": "stream",
     "text": [
      "Using Theano backend.\n",
      "WARNING (theano.configdefaults): g++ not available, if using conda: `conda install m2w64-toolchain`\n",
      "F:\\anacondathree\\lib\\site-packages\\theano\\configdefaults.py:560: UserWarning: DeprecationWarning: there is no c++ compiler.This is deprecated and with Theano 0.11 a c++ compiler will be mandatory\n",
      "  warnings.warn(\"DeprecationWarning: there is no c++ compiler.\"\n",
      "WARNING (theano.configdefaults): g++ not detected ! Theano will be unable to execute optimized C-implementations (for both CPU and GPU) and will default to Python implementations. Performance will be severely degraded. To remove this warning, set Theano flags cxx to an empty string.\n",
      "WARNING (theano.tensor.blas): Using NumPy C-API based implementation for BLAS functions.\n"
     ]
    }
   ],
   "source": [
    "import nltk\n",
    "from nltk.stem import WordNetLemmatizer\n",
    "lemmatizer = WordNetLemmatizer()\n",
    "import json\n",
    "import pickle\n",
    "import numpy as np\n",
    "from keras.models import Sequential\n",
    "from keras.layers import Dense, Activation, Dropout\n",
    "from keras.optimizers import SGD\n",
    "import random"
   ]
  },
  {
   "cell_type": "code",
   "execution_count": 3,
   "id": "880f88fd",
   "metadata": {},
   "outputs": [],
   "source": [
    "words=[]\n",
    "classes = []\n",
    "documents = []\n",
    "ignore_words = ['?', '!']\n",
    "data_file = open('intents.json').read()\n",
    "intents = json.loads(data_file)"
   ]
  },
  {
   "cell_type": "code",
   "execution_count": 4,
   "id": "5d3c02d0",
   "metadata": {},
   "outputs": [
    {
     "name": "stdout",
     "output_type": "stream",
     "text": [
      "168 documents\n",
      "58 classes ['2-Tier', '4-tier', 'Access Manager', 'Active Workspace Client', 'CAD softwares', 'ERP interface', 'FCC', 'FMS', 'FSC', 'Jira', 'Jira packages', 'PLM', 'PLM software list', 'PLM systems', 'PTC Windchill', 'PTC Windchill uses', 'Preferences', 'SOA', 'Smart Chatbot', 'Smart Dashboard', 'SmartPort', 'Structure Manager', 'Teamcenter', 'Teamcenter X', 'Teamcenter customer', 'Teamcenter help', 'Teamcenter interfaces', 'Teamcenter rapid start', 'Teamcenter uses', 'Windchill PLM system', 'action handlers', 'benefits of PLM', 'change management', 'classification', 'cost-effective', 'data model', 'dataset', 'difference', 'document management', 'enterprise', 'goodbye', 'greeting', 'handlers', 'implement smartport', 'item', 'plm uses', 'pool manager', 'pricing model', 'revision rule', 'rich client', 'role of smartport', 'rule handlers', 'smartport features', 'teamcenter services', 'thanks', 'thin client', 'ticketing system', 'volume']\n",
      "126 unique lemmatized words [\"'s\", '2', '2-tier', '24x7', '4-tier', 'a', 'access', 'action', 'active', 'add', 'advantage', 'and', 'any', 'anyone', 'are', 'benefit', 'between', 'by', 'bye', 'cad', 'can', 'change', 'chatbot', 'classification', 'client', 'cost-effective', 'dashboard', 'data', 'dataset', 'difference', 'do', 'document', 'enterprise', 'erp', 'existing', 'fcc', 'feature', 'file', 'fixed', 'fm', 'for', 'four', 'fsc', 'get', 'goodbye', 'handler', 'hello', 'help', 'helpful', 'hey', 'hi', 'how', 'i', 'implement', 'in', 'install', 'interface', 'is', 'it', 'item', 'jira', 'kind', 'later', 'list', 'lot', 'management', 'manager', 'me', 'meant', 'model', 'my', 'need', 'of', 'offer', 'package', 'plm', 'pool', 'preference', 'pricing', 'ptc', 'rapid', 'revision', 'rich', 'role', 'rule', 'see', 'service', 'should', 'smart', 'smartbot', 'smartport', 'soa', 'software', 'stand', 'start', 'structure', 'support', 'system', 'teamcenter', 'thank', 'thanks', 'that', 'the', 'there', 'thin', 'ticketing', 'tier', 'to', 'two-tier', 'us', 'use', 'used', 'useful', 'volume', 'what', 'where', 'which', 'who', 'why', 'will', 'windchill', 'with', 'work', 'workspace', 'x', 'you']\n"
     ]
    }
   ],
   "source": [
    "for intent in intents['intents']:\n",
    "    for pattern in intent['patterns']:\n",
    "        #tokenize each word\n",
    "        w = nltk.word_tokenize(pattern)\n",
    "        words.extend(w)\n",
    "        #add documents in the corpus\n",
    "        documents.append((w, intent['tag']))\n",
    "        # add to our classes list\n",
    "        if intent['tag'] not in classes:\n",
    "            classes.append(intent['tag'])\n",
    "            \n",
    "# lemmatize, lower each word and remove duplicates\n",
    "words = [lemmatizer.lemmatize(w.lower()) for w in words if w not in ignore_words]\n",
    "words = sorted(list(set(words)))\n",
    "# sort classes\n",
    "classes = sorted(list(set(classes)))\n",
    "# documents = combination between patterns and intents\n",
    "print (len(documents), \"documents\")\n",
    "# classes = intents\n",
    "print (len(classes), \"classes\", classes)\n",
    "# words = all words, vocabulary\n",
    "print (len(words), \"unique lemmatized words\", words)"
   ]
  },
  {
   "cell_type": "code",
   "execution_count": 5,
   "id": "4fc53776",
   "metadata": {},
   "outputs": [
    {
     "name": "stdout",
     "output_type": "stream",
     "text": [
      "Training data created\n"
     ]
    },
    {
     "name": "stderr",
     "output_type": "stream",
     "text": [
      "<ipython-input-5-cd2d2c45d8a7>:22: VisibleDeprecationWarning: Creating an ndarray from ragged nested sequences (which is a list-or-tuple of lists-or-tuples-or ndarrays with different lengths or shapes) is deprecated. If you meant to do this, you must specify 'dtype=object' when creating the ndarray\n",
      "  training = np.array(training)\n"
     ]
    }
   ],
   "source": [
    "# create our training data\n",
    "training = []\n",
    "# create an empty array for our output\n",
    "output_empty = [0] * len(classes)\n",
    "# training set, bag of words for each sentence\n",
    "for doc in documents:\n",
    "    # initialize our bag of words\n",
    "    bag = []\n",
    "    # list of tokenized words for the pattern\n",
    "    pattern_words = doc[0]\n",
    "    # lemmatize each word - create base word, in attempt to represent related words\n",
    "    pattern_words = [lemmatizer.lemmatize(word.lower()) for word in pattern_words]\n",
    "    # create our bag of words array with 1, if word match found in current pattern\n",
    "    for w in words:\n",
    "        bag.append(1) if w in pattern_words else bag.append(0)\n",
    "        # output is a '0' for each tag and '1' for current tag (for each pattern)\n",
    "        output_row = list(output_empty)\n",
    "        output_row[classes.index(doc[1])] = 1\n",
    "        training.append([bag, output_row])\n",
    "# shuffle our features and turn into np.array\n",
    "random.shuffle(training)\n",
    "training = np.array(training)\n",
    "# create train and test lists. X - patterns, Y - intents\n",
    "train_x = list(training[:,0])\n",
    "train_y = list(training[:,1])\n",
    "print(\"Training data created\")"
   ]
  },
  {
   "cell_type": "code",
   "execution_count": 6,
   "id": "615313e3",
   "metadata": {},
   "outputs": [
    {
     "name": "stdout",
     "output_type": "stream",
     "text": [
      "Epoch 1/8\n",
      "21168/21168 [==============================] - 1915s 90ms/step - loss: 3.8807 - accuracy: 0.0934\n",
      "Epoch 2/8\n",
      "21168/21168 [==============================] - 2113s 100ms/step - loss: 3.0059 - accuracy: 0.3013\n",
      "Epoch 3/8\n",
      "21168/21168 [==============================] - 1921s 91ms/step - loss: 1.8987 - accuracy: 0.5223\n",
      "Epoch 4/8\n",
      "21168/21168 [==============================] - 2160s 102ms/step - loss: 1.2417 - accuracy: 0.6740\n",
      "Epoch 5/8\n",
      "21168/21168 [==============================] - 1985s 94ms/step - loss: 0.8716 - accuracy: 0.7688\n",
      "Epoch 6/8\n",
      "21168/21168 [==============================] - 1966s 93ms/step - loss: 0.6554 - accuracy: 0.8267\n",
      "Epoch 7/8\n",
      "21168/21168 [==============================] - 1818s 86ms/step - loss: 0.5292 - accuracy: 0.8604\n",
      "Epoch 8/8\n",
      "21168/21168 [==============================] - 1932s 91ms/step - loss: 0.4356 - accuracy: 0.8843\n",
      "model created\n"
     ]
    }
   ],
   "source": [
    "model = Sequential()\n",
    "model.add(Dense(128, input_shape=(len(train_x[0]),), activation='relu'))\n",
    "model.add(Dropout(0.5))\n",
    "model.add(Dense(64, activation='relu'))\n",
    "model.add(Dropout(0.5))\n",
    "model.add(Dense(len(train_y[0]), activation='softmax'))\n",
    "# Compile model. Stochastic gradient descent with Nesterov accelerated gradient gives good results for this model\n",
    "sgd = SGD(lr=0.01, decay=1e-6, momentum=0.9, nesterov=True)\n",
    "model.compile(loss='categorical_crossentropy', optimizer=sgd, metrics=['accuracy'])\n",
    "#fitting and saving the model \n",
    "hist = model.fit(np.array(train_x), np.array(train_y), epochs=8, batch_size=100, verbose=1)\n",
    "print(\"model created\")"
   ]
  },
  {
   "cell_type": "code",
   "execution_count": 7,
   "id": "a7620303",
   "metadata": {},
   "outputs": [],
   "source": [
    "model.save('chatbot_model.h5', hist)"
   ]
  },
  {
   "cell_type": "code",
   "execution_count": 8,
   "id": "f342c76f",
   "metadata": {},
   "outputs": [],
   "source": [
    "pickle.dump(words,open('words.pkl','wb'))\n",
    "pickle.dump(classes,open('classes.pkl','wb'))"
   ]
  }
 ],
 "metadata": {
  "kernelspec": {
   "display_name": "Python 3",
   "language": "python",
   "name": "python3"
  },
  "language_info": {
   "codemirror_mode": {
    "name": "ipython",
    "version": 3
   },
   "file_extension": ".py",
   "mimetype": "text/x-python",
   "name": "python",
   "nbconvert_exporter": "python",
   "pygments_lexer": "ipython3",
   "version": "3.8.10"
  }
 },
 "nbformat": 4,
 "nbformat_minor": 5
}
